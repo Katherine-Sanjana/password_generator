{
  "nbformat": 4,
  "nbformat_minor": 0,
  "metadata": {
    "colab": {
      "name": "passwd.ipynb",
      "provenance": [],
      "private_outputs": true,
      "authorship_tag": "ABX9TyOWhWxGZHpK4V5TQUeq3HIN",
      "include_colab_link": true
    },
    "kernelspec": {
      "name": "python3",
      "display_name": "Python 3"
    }
  },
  "cells": [
    {
      "cell_type": "markdown",
      "metadata": {
        "id": "view-in-github",
        "colab_type": "text"
      },
      "source": [
        "<a href=\"https://colab.research.google.com/github/Katherine-Sanjana/password_generator/blob/master/passwd.ipynb\" target=\"_parent\"><img src=\"https://colab.research.google.com/assets/colab-badge.svg\" alt=\"Open In Colab\"/></a>"
      ]
    },
    {
      "cell_type": "code",
      "metadata": {
        "id": "Z0rHNQJKIopK",
        "colab_type": "code",
        "colab": {}
      },
      "source": [
        "import random\n",
        "s = \"abcdefghijklmnopqrstuvwxyz1234567890ABCDEFGHIJKLMNOPQRSTUVWXYZ!@#$%^&*()_-{}[];.,\"\n",
        "passwordlen = 16\n",
        "password = \"\".join(random.sample(s,passwordlen))\n",
        "print(password)\n"
      ],
      "execution_count": null,
      "outputs": []
    }
  ]
}